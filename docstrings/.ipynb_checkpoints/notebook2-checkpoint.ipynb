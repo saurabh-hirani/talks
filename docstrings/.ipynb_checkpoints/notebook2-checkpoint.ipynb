{
 "metadata": {
  "name": ""
 },
 "nbformat": 3,
 "nbformat_minor": 0,
 "worksheets": [
  {
   "cells": [
    {
     "cell_type": "markdown",
     "metadata": {},
     "source": [
      "#### Lessons learnt while trying to automate docstring testing"
     ]
    },
    {
     "cell_type": "markdown",
     "metadata": {},
     "source": [
      "The aim of this post is to walk the user through the evolution of a program which automates docstring testing of a module and its components (functions, classes, nested classes and their respective methods). It starts out simple and as we keep on noticing limitations - we will keep on making incremental changes to address those limitations. \n",
      "\n",
      "\n",
      "Although I am using an ipython notebook, I don't want the end user to copy paste and run the cell source code to try the code examples outside of the notebook. So I am using the %load call to load the source files from my ipython directory instead of typing code directly in the cells. These files map to my github repo of this post - ___enter_url_here__ - So to use code separately, clone this repo and you are good to run t1.py, t2.py and so on. Read from here, play from there. \n",
      "\n",
      "For the sake of simplicity, let us assume that the module which we want to test for docstrings has the  structure defined in __mod1.py__:"
     ]
    },
    {
     "cell_type": "markdown",
     "metadata": {},
     "source": [
      "%load mod1.py"
     ]
    },
    {
     "cell_type": "code",
     "collapsed": false,
     "input": [
      "class SpecFile(object):\n",
      "    class Section(object):\n",
      "        def __init__(self): pass\n",
      "        def validate(self): pass\n",
      "        \n",
      "    class DynamicSection(Section):\n",
      "        def __init__(self): pass\n",
      "        \n",
      "    class StaticSection(Section):\n",
      "        def __init__(self): pass\n",
      "        \n",
      "    class Section1(StaticSection):\n",
      "        def validate(self): pass\n",
      "        \n",
      "    class Section2(DynamicSection):\n",
      "        def validate(self): pass\n",
      "        \n",
      "def main():\n",
      "    pass\n"
     ],
     "language": "python",
     "metadata": {},
     "outputs": [],
     "prompt_number": 6
    },
    {
     "cell_type": "markdown",
     "metadata": {},
     "source": [
      "This represents the structure of a spec file which contains various sections. Some sections have static i.e. pre-defined keys and some have dynamic keys i.e. key-value pairs that are not known in advance. Section1 and Section2 are just instances of 2 such sections. The main function is called when user executes the program from the cmdline. We are not concerned with the internal logic as I am trying to automate docstring testing.\n",
      "\n",
      "nbcommon.py contains all the common operations. "
     ]
    },
    {
     "cell_type": "markdown",
     "metadata": {},
     "source": [
      "%load nbcommon.py"
     ]
    },
    {
     "cell_type": "code",
     "collapsed": false,
     "input": [
      "# custom exception class for no docstring\n",
      "class NoDocstrError(Exception): pass\n",
      "\n",
      "def has_docstr(entity):\n",
      "    \"\"\" Check whether this entity has a docstring \"\"\"\n",
      "    docstr = entity.__doc__\n",
      "    return docstr != None and docstr.strip() != ''\n",
      "\n",
      "import inspect\n",
      "\n",
      "def get_entity_type(entity):\n",
      "    \"\"\" Check whether entity is supported for docstring heck \"\"\"\n",
      "    for entity_type in ['module', 'function', 'class', 'method'] :\n",
      "        # inspect module has inspect.ismodule, inspect.isfunction - leverage that\n",
      "        inspect_func = getattr(inspect, 'is' + entity_type)\n",
      "        if inspect_func(entity): return entity_type\n",
      "    raise ValueError('Invalid entity: %s passed' % entity)\n"
     ],
     "language": "python",
     "metadata": {},
     "outputs": [],
     "prompt_number": 7
    },
    {
     "cell_type": "code",
     "collapsed": false,
     "input": [],
     "language": "python",
     "metadata": {},
     "outputs": [],
     "prompt_number": 7
    },
    {
     "cell_type": "markdown",
     "metadata": {},
     "source": [
      "inspect module is used to get the members of an entity (a class, module, etc.) By using get_entity_type we are just saying that while getting the members of a module - we will perform docstring tests on only the ones which are supported by this function."
     ]
    },
    {
     "cell_type": "markdown",
     "metadata": {},
     "source": [
      "I don't know how to run a py.test code in a notebook. So to keep things simple, I will use self contained examples to test for docstrings.\n",
      "\n",
      "Also because ipython notebook does not support namespaces as far as I know, I will use classes like TestDocstr1, TestDocstr2, etc. to show the evolution of code.\n",
      "\n",
      "For the first cut, we will use the code in __t1.py__ which does a simple docstring test."
     ]
    },
    {
     "cell_type": "markdown",
     "metadata": {},
     "source": [
      "%load t1.py"
     ]
    },
    {
     "cell_type": "code",
     "collapsed": false,
     "input": [
      "from nbcommon import *\n",
      "import mod1\n",
      "\n",
      "class TestDocstr1(object):\n",
      "    \"\"\" Test whether the passed entity has a docstring \"\"\"\n",
      "    def test_docstr(self, entity):\n",
      "        if not has_docstr(entity):\n",
      "            raise NoDocstrError(\"%s does not have docstr\" % entity.__name__)\n",
      "        return True\n",
      "        \n",
      "t1 = TestDocstr1()\n",
      "t1.test_docstr(mod1)\n",
      "t1.test_docstr(mod1.SpecFile)\n",
      "t1.test_docstr(mod1.SpecFile.Section)\n",
      "t1.test_docstr(mod1.SpecFile.DynamicSection)\n",
      "t1.test_docstr(mod1.SpecFile.StaticSection)\n",
      "t1.test_docstr(mod1.SpecFile.Section1)\n",
      "t1.test_docstr(mod1.SpecFile.Section2)\n",
      "t1.test_docstr(mod1.main)\n"
     ],
     "language": "python",
     "metadata": {},
     "outputs": [
      {
       "ename": "NoDocstrError",
       "evalue": "mod1 does not have docstr",
       "output_type": "pyerr",
       "traceback": [
        "\u001b[1;31m---------------------------------------------------------------------------\u001b[0m\n\u001b[1;31mNoDocstrError\u001b[0m                             Traceback (most recent call last)",
        "\u001b[1;32m<ipython-input-8-6a592c9f5516>\u001b[0m in \u001b[0;36m<module>\u001b[1;34m()\u001b[0m\n\u001b[0;32m     10\u001b[0m \u001b[1;33m\u001b[0m\u001b[0m\n\u001b[0;32m     11\u001b[0m \u001b[0mt1\u001b[0m \u001b[1;33m=\u001b[0m \u001b[0mTestDocstr1\u001b[0m\u001b[1;33m(\u001b[0m\u001b[1;33m)\u001b[0m\u001b[1;33m\u001b[0m\u001b[0m\n\u001b[1;32m---> 12\u001b[1;33m \u001b[0mt1\u001b[0m\u001b[1;33m.\u001b[0m\u001b[0mtest_docstr\u001b[0m\u001b[1;33m(\u001b[0m\u001b[0mmod1\u001b[0m\u001b[1;33m)\u001b[0m\u001b[1;33m\u001b[0m\u001b[0m\n\u001b[0m\u001b[0;32m     13\u001b[0m \u001b[0mt1\u001b[0m\u001b[1;33m.\u001b[0m\u001b[0mtest_docstr\u001b[0m\u001b[1;33m(\u001b[0m\u001b[0mmod1\u001b[0m\u001b[1;33m.\u001b[0m\u001b[0mSpecFile\u001b[0m\u001b[1;33m)\u001b[0m\u001b[1;33m\u001b[0m\u001b[0m\n\u001b[0;32m     14\u001b[0m \u001b[0mt1\u001b[0m\u001b[1;33m.\u001b[0m\u001b[0mtest_docstr\u001b[0m\u001b[1;33m(\u001b[0m\u001b[0mmod1\u001b[0m\u001b[1;33m.\u001b[0m\u001b[0mSpecFile\u001b[0m\u001b[1;33m.\u001b[0m\u001b[0mSection\u001b[0m\u001b[1;33m)\u001b[0m\u001b[1;33m\u001b[0m\u001b[0m\n",
        "\u001b[1;32m<ipython-input-8-6a592c9f5516>\u001b[0m in \u001b[0;36mtest_docstr\u001b[1;34m(self, entity)\u001b[0m\n\u001b[0;32m      6\u001b[0m     \u001b[1;32mdef\u001b[0m \u001b[0mtest_docstr\u001b[0m\u001b[1;33m(\u001b[0m\u001b[0mself\u001b[0m\u001b[1;33m,\u001b[0m \u001b[0mentity\u001b[0m\u001b[1;33m)\u001b[0m\u001b[1;33m:\u001b[0m\u001b[1;33m\u001b[0m\u001b[0m\n\u001b[0;32m      7\u001b[0m         \u001b[1;32mif\u001b[0m \u001b[1;32mnot\u001b[0m \u001b[0mhas_docstr\u001b[0m\u001b[1;33m(\u001b[0m\u001b[0mentity\u001b[0m\u001b[1;33m)\u001b[0m\u001b[1;33m:\u001b[0m\u001b[1;33m\u001b[0m\u001b[0m\n\u001b[1;32m----> 8\u001b[1;33m             \u001b[1;32mraise\u001b[0m \u001b[0mNoDocstrError\u001b[0m\u001b[1;33m(\u001b[0m\u001b[1;34m\"%s does not have docstr\"\u001b[0m \u001b[1;33m%\u001b[0m \u001b[0mentity\u001b[0m\u001b[1;33m.\u001b[0m\u001b[0m__name__\u001b[0m\u001b[1;33m)\u001b[0m\u001b[1;33m\u001b[0m\u001b[0m\n\u001b[0m\u001b[0;32m      9\u001b[0m         \u001b[1;32mreturn\u001b[0m \u001b[0mTrue\u001b[0m\u001b[1;33m\u001b[0m\u001b[0m\n\u001b[0;32m     10\u001b[0m \u001b[1;33m\u001b[0m\u001b[0m\n",
        "\u001b[1;31mNoDocstrError\u001b[0m: mod1 does not have docstr"
       ]
      }
     ],
     "prompt_number": 8
    },
    {
     "cell_type": "markdown",
     "metadata": {},
     "source": [
      "This, even though it works, points that __t1.py__ has the following limitations:\n",
      "\n",
      "1. I have to run test_docstr for each element - even though I know that all elements are nested under mod1 module.\n",
      "2. The solution does not specify the element type - i.e. error messages should be prefixed with the entity type - \"Class SpecFile does not have a docstr\" or \"Module mod1 does not have docstr\".\n",
      "3. We don't get all the errors i.e. we should be covering all elements and then printing a consolidated list of docstring-less elements.\n",
      "\n",
      "So in order to address these limitations we need to:\n",
      "\n",
      "1. Use the inspect module to get members of the passed entity.\n",
      "2. For each member test whether it has a docstring - if it doesn't - keep on storing the errors and spit out a consolidated list to the end user."
     ]
    },
    {
     "cell_type": "markdown",
     "metadata": {},
     "source": [
      "Using the above pointers, we evolve __t1.py__ to __t2.py__ :"
     ]
    },
    {
     "cell_type": "markdown",
     "metadata": {},
     "source": [
      "%load t2.py"
     ]
    },
    {
     "cell_type": "code",
     "collapsed": false,
     "input": [
      "from nbcommon import *\n",
      "import mod1\n",
      "\n",
      "import inspect\n",
      "from collections import defaultdict\n",
      "\n",
      "class TestDocstr2(object):\n",
      "    def test_docstr(self, entity):\n",
      "        \"\"\" Test whether the passed in entity and its children have docstring \"\"\"\n",
      "        entity_type = None\n",
      "        non_docstr_entities = defaultdict(list)\n",
      "\n",
      "        # get all the members of the passed entity\n",
      "        for member in inspect.getmembers(entity):\n",
      "            ref = member[1]\n",
      "            try:\n",
      "                entity_type = get_entity_type(ref)\n",
      "                if not has_docstr(ref):\n",
      "                    non_docstr_entities[entity_type].append(ref)\n",
      "            except ValueError:\n",
      "                # invalid entity type - skip it\n",
      "                continue\n",
      "\n",
      "        # if any entities without docstring - consolidate and raise error\n",
      "        if non_docstr_entities.keys():\n",
      "            errors = []\n",
      "            for entity_type, refs in non_docstr_entities.iteritems():\n",
      "                for ref in refs:\n",
      "                    errors.append('%s %s does not have docstr' % (entity_type,\n",
      "                                                                  ref.__name__))\n",
      "            raise NoDocstrError('\\n'.join(errors))\n",
      "\n",
      "        return True\n",
      "\n",
      "t2 = TestDocstr2()\n",
      "\n",
      "print \"testing mod1\"\n",
      "print \"-----------\"\n",
      "try:\n",
      "    t2.test_docstr(mod1)\n",
      "except NoDocstrError as e:\n",
      "    print e\n",
      "print \"-----------\"\n",
      "\n",
      "print \"\\ntesting mod1.SpecFile\"\n",
      "print \"-----------\"\n",
      "try:\n",
      "    t2.test_docstr(mod1.SpecFile)\n",
      "except NoDocstrError as e:\n",
      "    print e\n",
      "print \"-----------\"\n"
     ],
     "language": "python",
     "metadata": {},
     "outputs": [
      {
       "output_type": "stream",
       "stream": "stdout",
       "text": [
        "testing mod1\n",
        "-----------\n",
        "function main does not have docstr\n",
        "class SpecFile does not have docstr\n",
        "-----------\n",
        "\n",
        "testing mod1.SpecFile\n",
        "-----------\n",
        "class DynamicSection does not have docstr\n",
        "class Section does not have docstr\n",
        "class Section1 does not have docstr\n",
        "class Section2 does not have docstr\n",
        "class StaticSection does not have docstr\n",
        "-----------\n"
       ]
      }
     ],
     "prompt_number": 9
    },
    {
     "cell_type": "markdown",
     "metadata": {},
     "source": [
      "The above code tests the first level children of mod1 i.e. the function main and the class SpecFile. It does not:\n",
      "\n",
      "1. Test the mod1 module itself.\n",
      "2. It does not check the methods defined in SpecFile.\n",
      "\n",
      "Also while testing mod1.SpecFile, it tests the classes in SpecFile but not the methods of SpecFile and neither the methods in any of the classes in mod1.SpecFile."
     ]
    },
    {
     "cell_type": "markdown",
     "metadata": {},
     "source": [
      "Hence __t2.py__ has the following limitations:\n",
      "\n",
      "1. Top level entities are not traversed i.e. when a module is passed the code does not traverse through all the classes defined in it, when a class is passed the code does not traverse through the methods defined it in it.\n",
      "\n",
      "To overcome the above limitation, we do the following: \n",
      "\n",
      "1. As soon as you get a member - check if it is a member which can nest other members. In our code a module can nest - class, functions. A class can nest - methods, classes. \n",
      "\n",
      "An additional check we can do at this stage is to filter out only those members which are defined in this module i.e. if someone does a  'from docopt import \\*' we don't want to test the members which polluted the module name space. We will also change the object instantiation to pass in the entity during object creation stage itself."
     ]
    },
    {
     "cell_type": "markdown",
     "metadata": {},
     "source": [
      "Using the above pointers, we can evolve __t2.py__ to __t3.py__: "
     ]
    },
    {
     "cell_type": "markdown",
     "metadata": {},
     "source": [
      "%load t3.py"
     ]
    },
    {
     "cell_type": "code",
     "collapsed": false,
     "input": [
      "from nbcommon import *\n",
      "import mod1\n",
      "\n",
      "import inspect\n",
      "import sys\n",
      "from collections import defaultdict\n",
      "\n",
      "class TestDocstr3(object):\n",
      "\n",
      "    # update __init__ to load entity at startup as there a few more\n",
      "    # params being initialized \n",
      "    def __init__(self, entity):\n",
      "        self.entity_type = get_entity_type(entity)\n",
      "        self.entity = entity\n",
      "        self.base_module = entity\n",
      "        if self.entity_type != 'module':\n",
      "            # if entity_type is class - know which module it belongs to\n",
      "            self.base_module = sys.modules[entity.__module__]\n",
      "\n",
      "    def get_members(self, entity):\n",
      "        \"\"\" Get first level members of the passed entity \"\"\"\n",
      "        members = []\n",
      "        for member in inspect.getmembers(entity):\n",
      "            ref = member[1]\n",
      "            # member has to be of supported entity type\n",
      "            try:\n",
      "                ref_type = get_entity_type(ref)\n",
      "            except ValueError:\n",
      "                continue\n",
      "            # member has to be defined in base module\n",
      "            if ref.__module__ != self.base_module.__name__: continue\n",
      "            # valid member - append member reference and type to the member \n",
      "            # list\n",
      "            members.append((ref_type, ref))\n",
      "        return members\n",
      "\n",
      "    def get_all_members(self):\n",
      "        \"\"\" Get all the members (nested also) of the passed entity \"\"\"\n",
      "        all_members = [(self.entity_type, self.entity)]\n",
      "        # get first level members of the main entity\n",
      "        nested_members = self.get_members(self.entity)\n",
      "        all_members.extend(nested_members)\n",
      "\n",
      "        # call get_members repetitively till you reach a stage where there are \n",
      "        # no nested members\n",
      "        while nested_members:\n",
      "            curr_nested_members = []\n",
      "            for member_type, member_ref in nested_members:\n",
      "                if member_type == 'class':\n",
      "                    # drill nested members only in a class\n",
      "                    members = self.get_members(member_ref)\n",
      "                    curr_nested_members.extend(members)\n",
      "            nested_members = curr_nested_members\n",
      "            all_members.extend(nested_members)\n",
      "\n",
      "        return all_members\n",
      "\n",
      "    def test_docstr(self):\n",
      "\n",
      "        non_docstr_entities = defaultdict(list)\n",
      "\n",
      "        # get all the nested members of root entity\n",
      "        for member_type, member_ref in self.get_all_members():\n",
      "            # consolidate members based on type\n",
      "            if not has_docstr(member_ref):\n",
      "                non_docstr_entities[member_type].append(member_ref)\n",
      "\n",
      "        if non_docstr_entities.keys():\n",
      "            errors = []\n",
      "            # create error string\n",
      "            for entity_type, refs in non_docstr_entities.iteritems():\n",
      "                for ref in refs:\n",
      "                    errors.append('%s: %s does not have docstr' % (entity_type,\n",
      "                                                                ref.__name__))\n",
      "            raise NoDocstrError('\\n' + '\\n'.join(errors))\n",
      "\n",
      "        return True\n",
      "\n",
      "t3 = TestDocstr3(mod1)\n",
      "t3.test_docstr()\n"
     ],
     "language": "python",
     "metadata": {},
     "outputs": [
      {
       "ename": "NoDocstrError",
       "evalue": "\nfunction: main does not have docstr\nclass: SpecFile does not have docstr\nclass: DynamicSection does not have docstr\nclass: Section does not have docstr\nclass: Section1 does not have docstr\nclass: Section2 does not have docstr\nclass: StaticSection does not have docstr\nmodule: mod1 does not have docstr\nmethod: __init__ does not have docstr\nmethod: validate does not have docstr\nmethod: __init__ does not have docstr\nmethod: validate does not have docstr\nmethod: __init__ does not have docstr\nmethod: validate does not have docstr\nmethod: __init__ does not have docstr\nmethod: validate does not have docstr\nmethod: __init__ does not have docstr\nmethod: validate does not have docstr",
       "output_type": "pyerr",
       "traceback": [
        "\u001b[1;31m---------------------------------------------------------------------------\u001b[0m\n\u001b[1;31mNoDocstrError\u001b[0m                             Traceback (most recent call last)",
        "\u001b[1;32m<ipython-input-10-bcde57cc0297>\u001b[0m in \u001b[0;36m<module>\u001b[1;34m()\u001b[0m\n\u001b[0;32m     78\u001b[0m \u001b[1;33m\u001b[0m\u001b[0m\n\u001b[0;32m     79\u001b[0m \u001b[0mt3\u001b[0m \u001b[1;33m=\u001b[0m \u001b[0mTestDocstr3\u001b[0m\u001b[1;33m(\u001b[0m\u001b[0mmod1\u001b[0m\u001b[1;33m)\u001b[0m\u001b[1;33m\u001b[0m\u001b[0m\n\u001b[1;32m---> 80\u001b[1;33m \u001b[0mt3\u001b[0m\u001b[1;33m.\u001b[0m\u001b[0mtest_docstr\u001b[0m\u001b[1;33m(\u001b[0m\u001b[1;33m)\u001b[0m\u001b[1;33m\u001b[0m\u001b[0m\n\u001b[0m",
        "\u001b[1;32m<ipython-input-10-bcde57cc0297>\u001b[0m in \u001b[0;36mtest_docstr\u001b[1;34m(self)\u001b[0m\n\u001b[0;32m     73\u001b[0m                     errors.append('%s: %s does not have docstr' % (entity_type,\n\u001b[0;32m     74\u001b[0m                                                                 ref.__name__))\n\u001b[1;32m---> 75\u001b[1;33m             \u001b[1;32mraise\u001b[0m \u001b[0mNoDocstrError\u001b[0m\u001b[1;33m(\u001b[0m\u001b[1;34m'\\n'\u001b[0m \u001b[1;33m+\u001b[0m \u001b[1;34m'\\n'\u001b[0m\u001b[1;33m.\u001b[0m\u001b[0mjoin\u001b[0m\u001b[1;33m(\u001b[0m\u001b[0merrors\u001b[0m\u001b[1;33m)\u001b[0m\u001b[1;33m)\u001b[0m\u001b[1;33m\u001b[0m\u001b[0m\n\u001b[0m\u001b[0;32m     76\u001b[0m \u001b[1;33m\u001b[0m\u001b[0m\n\u001b[0;32m     77\u001b[0m         \u001b[1;32mreturn\u001b[0m \u001b[0mTrue\u001b[0m\u001b[1;33m\u001b[0m\u001b[0m\n",
        "\u001b[1;31mNoDocstrError\u001b[0m: \nfunction: main does not have docstr\nclass: SpecFile does not have docstr\nclass: DynamicSection does not have docstr\nclass: Section does not have docstr\nclass: Section1 does not have docstr\nclass: Section2 does not have docstr\nclass: StaticSection does not have docstr\nmodule: mod1 does not have docstr\nmethod: __init__ does not have docstr\nmethod: validate does not have docstr\nmethod: __init__ does not have docstr\nmethod: validate does not have docstr\nmethod: __init__ does not have docstr\nmethod: validate does not have docstr\nmethod: __init__ does not have docstr\nmethod: validate does not have docstr\nmethod: __init__ does not have docstr\nmethod: validate does not have docstr"
       ]
      }
     ],
     "prompt_number": 10
    },
    {
     "cell_type": "markdown",
     "metadata": {},
     "source": [
      "As you can see from the above run of __t3.py__ - by passing in a module - we are able to test all the nested members inside the module. Same goes for a class. Even then, there are some glaring limitations of the above solution:\n",
      "\n",
      "1. The names are not fully qualified. The string \"method: validate does not have docstr\" - but validate method is defined in multiple classes - Section, Section1, Section2, etc.\n",
      "2. The process of getting members of an entity and testing them for docstrings should be decoupled from each other.\n",
      "\n",
      "__t4.py__ tries to address these limitations by doing the following:\n",
      "\n",
      "1. Decouple ModStruct1 (class for getting all members of an entity) from TestDocstr4.\n",
      "2. In ModStruct1.get\\_members call we prepended the member name by its parent. i.e. did  entity.\\_\\_name\\_\\_ + '.' + ref.\\_\\_name\\_\\_ and used this name later.\n",
      "3. Made test_docstr a class method."
     ]
    },
    {
     "cell_type": "code",
     "collapsed": false,
     "input": [
      "%load t4.py"
     ],
     "language": "python",
     "metadata": {},
     "outputs": [],
     "prompt_number": 14
    },
    {
     "cell_type": "code",
     "collapsed": false,
     "input": [
      "from nbcommon import *\n",
      "import mod1\n",
      "\n",
      "import inspect\n",
      "import sys\n",
      "from collections import defaultdict\n",
      "\n",
      "class ModStruct1(object):\n",
      "    \"\"\" Return a data structure representing all members of the passed\n",
      "    entity \"\"\"\n",
      "\n",
      "    def __init__(self, entity):\n",
      "        self.entity_type = get_entity_type(entity)\n",
      "        self.entity = entity\n",
      "        self.base_module = entity\n",
      "        if self.entity_type != 'module':\n",
      "            # if entity_type is class - know which module it belongs to\n",
      "            self.base_module = sys.modules[entity.__module__]\n",
      "\n",
      "    def get_members(self, entity):\n",
      "        \"\"\" Get first level members of the passed entity \"\"\"\n",
      "        members = []\n",
      "        for member in inspect.getmembers(entity):\n",
      "            ref = member[1]\n",
      "            # member has to be of supported entity type\n",
      "            try:\n",
      "                ref_type = get_entity_type(ref)\n",
      "            except ValueError:\n",
      "                continue\n",
      "            # member has to be defined in base module\n",
      "            if ref.__module__ != self.base_module.__name__: continue\n",
      "            # valid member - append member reference, type and name to the \n",
      "            # member  list\n",
      "            members.append((ref_type, ref, \n",
      "                            entity.__name__ + '.' + ref.__name__))\n",
      "        return members\n",
      "\n",
      "    def get_all_members(self):\n",
      "        \"\"\" Get all the members (nested also) of the passed entity \"\"\"\n",
      "        all_members = [(self.entity_type, self.entity, self.entity.__name__)]\n",
      "        # get first level members of the main entity\n",
      "        nested_members = self.get_members(self.entity)\n",
      "        all_members.extend(nested_members)\n",
      "\n",
      "        # call get_members repetitively till you reach a stage where there are \n",
      "        # no nested members\n",
      "        while nested_members:\n",
      "            curr_nested_members = []\n",
      "            for member_type, member_ref, member_name in nested_members:\n",
      "                if member_type == 'class':\n",
      "                    # drill nested members only in a class\n",
      "                    members = self.get_members(member_ref)\n",
      "                    curr_nested_members.extend(members)\n",
      "            nested_members = curr_nested_members\n",
      "            all_members.extend(nested_members)\n",
      "\n",
      "        return all_members\n",
      "\n",
      "class TestDocstr4(object):\n",
      "\n",
      "    @classmethod\n",
      "    def test_docstr(self, entity):\n",
      "        all_members = ModStruct1(mod1).get_all_members()\n",
      "\n",
      "        non_docstr_entities = defaultdict(list)\n",
      "\n",
      "        # get all the nested members of root entity\n",
      "        for member_data in all_members:\n",
      "            member_type, member_ref, member_name = member_data\n",
      "            # consolidate members based on type\n",
      "            if not has_docstr(member_ref):\n",
      "                non_docstr_entities[member_type].append(member_name)\n",
      "\n",
      "        if non_docstr_entities.keys():\n",
      "            errors = []\n",
      "            # create error string\n",
      "            for entity_type, refs in non_docstr_entities.iteritems():\n",
      "                for refname in refs:\n",
      "                    errors.append('%s: %s does not have docstr' % (entity_type,\n",
      "                                                                   refname))\n",
      "            raise NoDocstrError('\\n' + '\\n'.join(errors))\n",
      "        return True\n",
      "\n",
      "TestDocstr4.test_docstr(mod1)\n"
     ],
     "language": "python",
     "metadata": {},
     "outputs": [
      {
       "ename": "NoDocstrError",
       "evalue": "\nfunction: mod1.main does not have docstr\nclass: mod1.SpecFile does not have docstr\nclass: SpecFile.DynamicSection does not have docstr\nclass: SpecFile.Section does not have docstr\nclass: SpecFile.Section1 does not have docstr\nclass: SpecFile.Section2 does not have docstr\nclass: SpecFile.StaticSection does not have docstr\nmodule: mod1 does not have docstr\nmethod: DynamicSection.__init__ does not have docstr\nmethod: DynamicSection.validate does not have docstr\nmethod: Section.__init__ does not have docstr\nmethod: Section.validate does not have docstr\nmethod: Section1.__init__ does not have docstr\nmethod: Section1.validate does not have docstr\nmethod: Section2.__init__ does not have docstr\nmethod: Section2.validate does not have docstr\nmethod: StaticSection.__init__ does not have docstr\nmethod: StaticSection.validate does not have docstr",
       "output_type": "pyerr",
       "traceback": [
        "\u001b[1;31m---------------------------------------------------------------------------\u001b[0m\n\u001b[1;31mNoDocstrError\u001b[0m                             Traceback (most recent call last)",
        "\u001b[1;32m<ipython-input-15-bdb7f8d73174>\u001b[0m in \u001b[0;36m<module>\u001b[1;34m()\u001b[0m\n\u001b[0;32m     82\u001b[0m         \u001b[1;32mreturn\u001b[0m \u001b[0mTrue\u001b[0m\u001b[1;33m\u001b[0m\u001b[0m\n\u001b[0;32m     83\u001b[0m \u001b[1;33m\u001b[0m\u001b[0m\n\u001b[1;32m---> 84\u001b[1;33m \u001b[0mTestDocstr4\u001b[0m\u001b[1;33m.\u001b[0m\u001b[0mtest_docstr\u001b[0m\u001b[1;33m(\u001b[0m\u001b[0mmod1\u001b[0m\u001b[1;33m)\u001b[0m\u001b[1;33m\u001b[0m\u001b[0m\n\u001b[0m",
        "\u001b[1;32m<ipython-input-15-bdb7f8d73174>\u001b[0m in \u001b[0;36mtest_docstr\u001b[1;34m(self, entity)\u001b[0m\n\u001b[0;32m     79\u001b[0m                     errors.append('%s: %s does not have docstr' % (entity_type,\n\u001b[0;32m     80\u001b[0m                                                                    refname))\n\u001b[1;32m---> 81\u001b[1;33m             \u001b[1;32mraise\u001b[0m \u001b[0mNoDocstrError\u001b[0m\u001b[1;33m(\u001b[0m\u001b[1;34m'\\n'\u001b[0m \u001b[1;33m+\u001b[0m \u001b[1;34m'\\n'\u001b[0m\u001b[1;33m.\u001b[0m\u001b[0mjoin\u001b[0m\u001b[1;33m(\u001b[0m\u001b[0merrors\u001b[0m\u001b[1;33m)\u001b[0m\u001b[1;33m)\u001b[0m\u001b[1;33m\u001b[0m\u001b[0m\n\u001b[0m\u001b[0;32m     82\u001b[0m         \u001b[1;32mreturn\u001b[0m \u001b[0mTrue\u001b[0m\u001b[1;33m\u001b[0m\u001b[0m\n\u001b[0;32m     83\u001b[0m \u001b[1;33m\u001b[0m\u001b[0m\n",
        "\u001b[1;31mNoDocstrError\u001b[0m: \nfunction: mod1.main does not have docstr\nclass: mod1.SpecFile does not have docstr\nclass: SpecFile.DynamicSection does not have docstr\nclass: SpecFile.Section does not have docstr\nclass: SpecFile.Section1 does not have docstr\nclass: SpecFile.Section2 does not have docstr\nclass: SpecFile.StaticSection does not have docstr\nmodule: mod1 does not have docstr\nmethod: DynamicSection.__init__ does not have docstr\nmethod: DynamicSection.validate does not have docstr\nmethod: Section.__init__ does not have docstr\nmethod: Section.validate does not have docstr\nmethod: Section1.__init__ does not have docstr\nmethod: Section1.validate does not have docstr\nmethod: Section2.__init__ does not have docstr\nmethod: Section2.validate does not have docstr\nmethod: StaticSection.__init__ does not have docstr\nmethod: StaticSection.validate does not have docstr"
       ]
      }
     ],
     "prompt_number": 15
    },
    {
     "cell_type": "markdown",
     "metadata": {},
     "source": [
      "Although the above output less ambiguous - as each function/method name is prefixed by its parent, it still has the limitation of having entity name prefixed by its immediate parent. For example, StaticSection.validate should ideally be mod1.SpecFile.StaticSection.validate - this means that we need the fully qualified name of each entity. \n",
      "\n",
      "If we were using Python 3.3 - we would have no need to proceed further because as per <a href=\"http://stackoverflow.com/questions/2020014/get-fully-qualified-class-name-of-an-object-in-python\" target=\"_blank\">this SO answer</a> an additional attribute \\_\\_qualname\\_\\_ has been added to functions and classes in Python 3.3 - which would give you the fully qualified name. \n",
      "\n",
      "Python tutor gives online shell for executing Python 2.7/3.3 code - <a href=\"http://goo.gl/BZn9Kp\" target=\"_blank\">this link</a> runs a qualname checking code snippet in Python 3.3 - try running it in 2.7 also to see the difference."
     ]
    },
    {
     "cell_type": "code",
     "collapsed": false,
     "input": [],
     "language": "python",
     "metadata": {},
     "outputs": []
    },
    {
     "cell_type": "code",
     "collapsed": false,
     "input": [],
     "language": "python",
     "metadata": {},
     "outputs": []
    },
    {
     "cell_type": "code",
     "collapsed": false,
     "input": [],
     "language": "python",
     "metadata": {},
     "outputs": []
    }
   ],
   "metadata": {}
  }
 ]
}